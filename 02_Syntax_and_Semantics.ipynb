{
 "cells": [
  {
   "cell_type": "markdown",
   "id": "16a3e9b5-a95b-4934-8a03-a315063315ec",
   "metadata": {},
   "source": [
    "## About The Notebook\n",
    "In this notebook, we will take a look at syntax and semantics in Python.\n",
    "\n",
    "Programming languages are similar to natural languages like English in this regard. When we have a sentence in English, the *meaning* of the sentence is its semantics; the *grammar* is its syntax.\n",
    "\n",
    "Computational thinking deals with *semantics* - the meaning of your program. When you're writing your code, following the proper syntax/grammar will help you get the meaning across correctly."
   ]
  },
  {
   "cell_type": "markdown",
   "id": "20f098f5",
   "metadata": {},
   "source": [
    "## Under the hood?\n",
    "Okay, I lied. I said that things will get more interesting after the first notebook, but you kinda need to know a language's features before you can actually write any code in that language. We'll be discussing how Python code is structured and written, and there are indeed segments where you'll be writing *some* code. Although for the most part, it'll still be explanations and demonstrations. So, with that said... what *are* the structures that make up Python code?\n",
    "\n",
    "### Statements\n",
    "Each line of code in Python is called a statement. You can think of it as a single instruction to Python. Python interprets and runs statements one by one.\n",
    "\n",
    "Python typically determines the end of a statement using the *end of line* (**EOL**).\n",
    "\n",
    "**Tangent incoming!**  \n",
    "**Borderline-useless knowledge that will probably come in handy exactly *once* in your lifetime:**  \n",
    "For end-users, the operating system (OS) usually handles end of lines invisibly/automatically when we use the *Enter* key. Under the hood, they are represented by end of line character(s) - also called newline or line ending. It's worth noting the EOL uses different sets of characters on different OSes.  \n",
    "- Windows uses 2 characters: Carriage Return (**CR**) & Line Feed (**LF**)\n",
    "- Linux and modern macOS uses 1: **LF**\n",
    "- Classic Mac OS uses 1: **CR**\n",
    "  \n",
    "This is one of the many reasons why files edited on one OS may not run properly on other OS.  \n",
    "*Fun fact: The terms **CR** and **LF** are inherited from typewriter terminology, where you needed to physically push the carriage to return it to the start of the line, and then turn the cylinder knob to feed the paper upwards to start the next line.*  \n",
    "**END TANGENT**  \n",
    "\n",
    "Tangent aside, it is possible to break long statements into multiple lines both implicitly and explicitly:\n",
    "- Use \"`\\`\", the line continuation character, to explicitly tell Python that you want to continue a statement on the next line.  \n",
    "- Parentheses, brackets, and braces broken over multiple lines implicitly imply line continuation. (preferred; see PEP 8)  \n",
    "\n",
    "You can run the following code block to see it in action yourself!"
   ]
  },
  {
   "cell_type": "code",
   "execution_count": null,
   "id": "98b2978a",
   "metadata": {},
   "outputs": [],
   "source": [
    "# Run me! :D\n",
    "# Let's use the loan deal from bank A in notebook 1 as an example\n",
    "# NOTE: Do not actually code financial equations like this\n",
    "#       This is a simple example, and is imprecise (with rounding errors)\n",
    "\n",
    "# Constants:\n",
    "principal = 1000\n",
    "interest_rate = 3\n",
    "periods_per_year = 4\n",
    "number_of_years = 5\n",
    "\n",
    "# Note that exponents in Python use the `**` symbol instead of `^`\n",
    "# Compound interest formula in 3 ways:\n",
    "total_value = principal * ((1 + (interest_rate / periods_per_year)/100)**(periods_per_year * number_of_years))\n",
    "print(f\"No line break: {total_value:.2f}\")\n",
    "\n",
    "total_value = principal *\\\n",
    "        ((1 + (interest_rate / periods_per_year)/100)**(periods_per_year * number_of_years))\n",
    "print(f\"Explicit line continuation: {total_value:.2f}\")\n",
    "\n",
    "total_value = (\n",
    "    principal\n",
    "    * ((1 + (interest_rate / periods_per_year)/100)**(periods_per_year * number_of_years))\n",
    ")\n",
    "print(f\"Implicit line continuation: {total_value:.2f}\")\n",
    "\n",
    "print(\"\\nNotice that regardless of line continuation, all 3 worked just the same.\")"
   ]
  },
  {
   "cell_type": "markdown",
   "id": "138d96b2",
   "metadata": {},
   "source": [
    "### Comments\n",
    "Notice that in the above example, we have plain English text preceded by a pound sign (\"`#`\") that didn't seem to break the code.  \n",
    "*Note: It would be best if you DON'T call that symbol a \"hash tag\".*\n",
    "\n",
    "Everything in a statement that follows after a pound sign is treated as a comment by the programmer, and ignored by Python.  \n",
    "Note that this means comments can also start mid-line:\n",
    "\n",
    "```python\n",
    "# This is a comment\n",
    "print(\"Hello Brandon\")  # This grey bit is also a comment!\n",
    "```\n",
    "\n",
    "Comments are important because they improve code readability. These are often used to explain *why* a block of code exists, which helps other people reading your code to understand what's happening in each part of your code. They are also very helpful when you return to a piece of code you've written a long time ago, and need to figure out what in the world you were thinking when you wrote all that convoluted bunch of alien characters (especially if you already have difficulty remembering what you had for lunch yesterday - much less say what you wrote weeks/months ago)!\n",
    "\n",
    "Try to write comments that clarify the *intention* of the code, rather than repeat the code; use comments for any noteworthy points for the reader."
   ]
  },
  {
   "cell_type": "markdown",
   "id": "6220fa1a",
   "metadata": {},
   "source": [
    "### A Quick Word on Keywords\n",
    "Just like how there are special symbols like \"`\\`\" or \"`#`\", there are also some special *words* with special meanings; these are called keywords.\n",
    "\n",
    "Keywords are reserved in Python, meaning that you can't use them to name your own things.  \n",
    "An example of a keyword is `import`. You can not use the word \"`import`\" as a name, unlike say \"`x`\" or \"`y`\":"
   ]
  },
  {
   "cell_type": "code",
   "execution_count": null,
   "id": "79198dbd",
   "metadata": {},
   "outputs": [],
   "source": [
    "# I'm also runnable! :D\n",
    "import math  # Notice the import keyword is a different color here!\n",
    "x = 1.2  # We're using `x` as a name to refer to the number 1.2 here\n",
    "y = 1.8\n",
    "\n",
    "print(f\"ceiling on x: {math.ceil(x)}\")\n",
    "print(f\"floor on y: {math.floor(y)}\")\n",
    "print(f\"Pi: {math.pi}\")"
   ]
  },
  {
   "cell_type": "markdown",
   "id": "da5148e3",
   "metadata": {},
   "source": [
    "### Modules\n",
    "In the above example, notice that we used the word `math` after `import`. This is an example of a module import.\n",
    "\n",
    "Modules are python files that contain bits of re-useable code.  \n",
    "*Python files usually end in `.py`*\n",
    "\n",
    "For instance, in the above example, we retrieved the ceiling function, floor function, as well as the value of *pi* from Python's built-in Math module. The use of modules means that we only need to write down commonly used things *once*, which can then be imported elsewhere whenever we desire. In the case of the `math` module, commonly used mathematical constants and operations have already been included with Python by the lovely developers of Python!\n",
    "\n",
    "Note that things that are defined inside the imported module are accessed using the dot operator (\"`.`\").\n",
    "\n",
    "Suppose we think of the math module as being something like this:  \n",
    "```python\n",
    "# math.py\n",
    "pi = 3.14\n",
    "```\n",
    "This is why in the earlier example, we retrieved the value of *pi* using the notation: `math.pi`\n",
    "\n",
    "Naturally, Python ships with way more than just simple math functions; Python comes with a large number of built-in modules, which is referred to as the [Python Standard Library](https://docs.python.org/3/library/index.html). Aside from included modules, programmers can also write their own modules and publish/share it with others on the [Python Package Index](https://pypi.org/)."
   ]
  },
  {
   "cell_type": "markdown",
   "id": "38bd8163",
   "metadata": {},
   "source": [
    "### Functions? (Kinda)\n",
    "This is a topic that we'll discuss properly in later chapters, but for now, you can think of them as being *sorta* similar to functions in mathematics. That is to say, they are constructs that take in one or more inputs *(called \"argument(s)\")*, and return you with one or more outputs *(either called \"return value(s)\", or simply a \"return\")*.\n",
    "\n",
    "$f(x) = x^2$\n",
    "\n",
    "In the above mathematical equation, we have a function of `x` that returns the value of `x` squared.  \n",
    "Such a function can be defined in Python like so:  \n",
    "```python\n",
    "# Function definition:\n",
    "def square(number):  # the argument is between the parentheses \n",
    "    return number**2  # the return value follows after the `return` keyword\n",
    "\n",
    "# Usage:\n",
    "square(2)  # this will give you `4` in return\n",
    "```\n",
    "\n",
    "How it all works isn't really important right now; all you need to know for now is that when you use a function, you:  \n",
    "- Specify the function's name\n",
    "- Followed immediately by the arguments in parentheses\n",
    "- May choose to store the return value somewhere\n",
    "    - e.g. `x = square(2)`\n",
    "    - If you simply call `square(2)`, the operation will be performed but the result wouldn't be used, since you never specified what to do with the result"
   ]
  },
  {
   "cell_type": "code",
   "execution_count": null,
   "id": "a629f00b",
   "metadata": {},
   "outputs": [],
   "source": [
    "# Run me if you'd like to see it in action!\n",
    "def square(number: int) -> int:\n",
    "    return number ** 2\n",
    "\n",
    "result = square(2)\n",
    "print(f\"The value of the result: {result}\")"
   ]
  },
  {
   "cell_type": "markdown",
   "id": "37776d0a",
   "metadata": {},
   "source": [
    "### Input/Output\n",
    "That's all well and good, but it would be a little boring if we couldn't interact with a program aside from changing the source code directly, wouldn't it?\n",
    "\n",
    "We will talk about inputs and outputs (IO) in greater depth in the future. For now, we'll contend with two Python keywords: `input` and `print`.\n",
    "\n",
    "Input is a built-in function provided by Python. It prints out the provided argument (see the earlier explanation of *function arguments*) and waits for the user's input. The input function will return with the value of whatever the user typed before hitting enter. If the user hits enter without typing anything, an empty string is returned.\n",
    "\n",
    "Print is as we've seen in the various code blocks above - it prints out whatever you've specified as argument(s)."
   ]
  },
  {
   "cell_type": "code",
   "execution_count": null,
   "id": "f266d7f4",
   "metadata": {},
   "outputs": [],
   "source": [
    "# Example usage\n",
    "# VS Code: If you're using the notebook via VS Code, after you hit run, type in a number and hit enter.\n",
    "#          For some reason, the prompt doesn't seem to show up properly\n",
    "try:\n",
    "    number_to_square = int(input(\"Please enter a number: \"))\n",
    "    print(\"The square of your number is: \")\n",
    "    print(square(number_to_square))\n",
    "except ValueError:\n",
    "    print(\"That's not nice :(\")\n",
    "    # ^When you input a non-integer, this message is printed out\n",
    "except NameError:\n",
    "    print(\"[ERROR] Please run the previous code block (in the `Functions` subsection) first!\")\n",
    "    print(\"\\tThe `square()` function is defined there\")"
   ]
  },
  {
   "cell_type": "markdown",
   "id": "b93b572c",
   "metadata": {},
   "source": [
    "### Hello World\n",
    "\"Hello, World!\" programs are small pieces of code that display a message similar to \"Hello, World!\". They're often the first piece of code a student will learn to write in a given language.\n",
    "\n",
    "Given that you've now been introduced to the `print()` function, use it to try creating a hello world message below:"
   ]
  },
  {
   "cell_type": "code",
   "execution_count": null,
   "id": "02e3d42e",
   "metadata": {},
   "outputs": [],
   "source": [
    "# Write your program here:\n"
   ]
  },
  {
   "cell_type": "markdown",
   "id": "9deb8edd",
   "metadata": {},
   "source": [
    "### Assignments (It's Not What You're Thinking...)\n",
    "Earlier we've given \"names\" to numerical values. In computing, this is called and assignment operation, with the `=` sign bring called an assignment operator.\n",
    "\n",
    "Those \"names\" are known as *variables*. For now, you can think of variables as a space in the computer memory that can be used to store useful information (as the nuances aren't relevant for this course). By assigning *something* to a variable name (e.g. a number), you're telling Python that you want to keep that *something* held in memory, and that whenever you use this particular name, you're referring this particular *something*:\n",
    "\n",
    "```python\n",
    "some_number = 123\n",
    "some_text = \"This is a string of text\"\n",
    "some_list_of_numbers = [1, 2, 3]\n",
    "\n",
    "print(some_number)  # This will print out 123\n",
    "print(some_number + 1)  # This will print out 124\n",
    "\n",
    "some_new_number = 123 * 10 + 4\n",
    "print(some_new_number)  # This will print out 1234\n",
    "```\n",
    "\n",
    "\n",
    "Let's test this out real quick! We know that the simple interest formula is:  \n",
    "- $Accrued = Principal(1 + \\frac{Rate}{100} * Time)$  \n",
    "\n",
    "Let's say Brandon borrows $200 from Angie at 5% annual interest to fund a new game controller.  \n",
    "Calculate the amount of money he owes Angie after a year, and assign it to a variable named `total_owed`:"
   ]
  },
  {
   "cell_type": "code",
   "execution_count": null,
   "id": "1e75b98a",
   "metadata": {},
   "outputs": [],
   "source": [
    "import assertions.checker_2 as test\n",
    "\n",
    "# write your code here!\n",
    "\n",
    "# This line here will check your work:\n",
    "test.check_assignment(total_owed)  # throws an error if total_owed is not assigned a value"
   ]
  },
  {
   "cell_type": "markdown",
   "id": "5fe0ee64",
   "metadata": {},
   "source": [
    "### Whitespace & Indents\n",
    "Whitespace characters, as the name implies, refer to characters like spaces and tabs. For the most part, these are transparent to Python, and are used to improve readability. For instance:\n",
    "\n",
    "```python\n",
    "y=m*x+c\n",
    "y = m*x + c\n",
    "y = m * x + c\n",
    "```\n",
    "These three statements are interpreted the same way by Python; omitting whitespace to make the code more compact does not make it run any faster.  \n",
    "If you'd like to read up some recommendations for how to use whitespace effectively, check out [PEP 8](https://peps.python.org/pep-0008/#whitespace-in-expressions-and-statements).\n",
    "\n",
    "Indentations are the leading whitespace at the beginning of statements.  \n",
    "Python uses them for grouping/scoping - particularly for flow control (which we will cover in a later notebook).\n",
    "\n",
    "You may choose to use either tabs or spaces, but not mix both in the same file. Most modern text editors and IDEs have a setting that can automatically convert your tabs into spaces, so you don't need to worry about needing to manually spamming the space bar.\n",
    "\n",
    "The most common way to write indents is to use 4 spaces for each level (which is what [PEP 8](https://peps.python.org/pep-0008/#indentation) suggests). However, certain projects, like Google's TensorFlow use 2-space indents internally. You are free to use whichever indentation style you prefer, as long as you keep things consistent."
   ]
  },
  {
   "cell_type": "markdown",
   "id": "2fca99ce",
   "metadata": {},
   "source": [
    "### Tokens (Not THAT Kind!)\n",
    "In programming languages, tokens are the smallest individual elements of a language. You can think of them as building blocks of the code, just like how atoms are building blocks of matter.\n",
    "\n",
    "Now that you've already learnt about variables and assignment, there are a number of token types in particular that you should know about.  \n",
    "You don't need to memorize them - you just need to know that these exist:"
   ]
  },
  {
   "cell_type": "markdown",
   "id": "9f379e4f",
   "metadata": {},
   "source": [
    "#### Keywords (Tokens)\n",
    "Oh hey, we're talking about keywords again!\n",
    "\n",
    "Previously we mentioned that you can't use keywords for names, since they're special; we also discussed what variable names are. So here's a list of reserved keywords to avoid (ta-da!):  \n",
    "```\n",
    "False      await      else       import     pass\n",
    "None       break      except     in         raise\n",
    "True       class      finally    is         return\n",
    "and        continue   for        lambda     try\n",
    "as         def        from       nonlocal   while\n",
    "assert     del        global     not        with\n",
    "async      elif       if         or         yield\n",
    "```  \n",
    "Don't worry too much about memorizing them, because modern IDEs and text editors often have syntax highlighting built-in that will make keywords a different colour so you'll know when you see them. Even if you're using an editor that does not support syntax highlighting, erroneous use of reserved words should become apparent very quickly as you perform testing - *always test your code before you ship*!"
   ]
  },
  {
   "cell_type": "markdown",
   "id": "6c1f8718",
   "metadata": {},
   "source": [
    "#### Soft Keywords (Tokens)\n",
    "These were introduced in Python 3.10 as a result of the new pattern matching feature; they're only reserved under specific contexts (i.e. when performing pattern matching).  \n",
    "```\n",
    "match      case       _\n",
    "```\n",
    "The reason these keywords were implemented like this when pattern matching was added, is so as to not break existing code."
   ]
  },
  {
   "cell_type": "markdown",
   "id": "73c8c7f9",
   "metadata": {},
   "source": [
    "#### Literals (Tokens)\n",
    "In programming, literals are fixed values of some built-in types.  \n",
    "\n",
    "```python\n",
    "pi = 3.14\n",
    "hello = \"world\"\n",
    "```  \n",
    "In the above code block, `3.14` and `world` are literals; specifically, numeric literal and string literal, respectively.  \n",
    "That is to say, we're assigning a numeric literal (`3.14`) to a variable named \"`pi`\".\n",
    "\n",
    "You may have heard of the term \"constants\" in programming; constants are a type of variables that do not change. These should not be confused with literals.  \n",
    "i.e. we can also say that we're assigning a numeric literal (`3.14`) to a *constant* named \"`pi`\"."
   ]
  },
  {
   "cell_type": "markdown",
   "id": "80f4b38c",
   "metadata": {},
   "source": [
    "#### Operators (Tokens)\n",
    "These are special character sequences that imply certain operations, such as arithmetic operations like addition (`+`) or logical ones like less-than (`>`).\n",
    "\n",
    "```\n",
    "+       -       *       **      /       //      %      @\n",
    "<<      >>      &       |       ^       ~       :=\n",
    "<       >       <=      >=      ==      !=\n",
    "```"
   ]
  },
  {
   "cell_type": "markdown",
   "id": "0a8330e4",
   "metadata": {},
   "source": [
    "#### Delimiters (Tokens)\n",
    "In computing, delimiters are character sequences that specify boundaries between separate, independent regions parts of code or data.  \n",
    "Take for instance CSV files, which uses commas as delimiters to separate each individual data point.\n",
    "\n",
    "Recall that when we talked about functions earlier, we mentioned that arguments are specified within parentheses: `print(\"foo\", \"bar\")`  \n",
    "The parentheses act as delimiters to tell Python when the arguments start and end; commas serve to separate different arguments; quotation marks tell Python that a string literal is enclosed.\n",
    "\n",
    "These character sequences either have special meaning as part of other tokens, or serve as delimiters in the grammar:\n",
    "```\n",
    "'       \"       #       \\\n",
    "(       )       [       ]       {       }\n",
    ",       :       .       ;       @       =       ->\n",
    "+=      -=      *=      /=      //=     %=      @=\n",
    "&=      |=      ^=      >>=     <<=     **=\n",
    "```"
   ]
  },
  {
   "cell_type": "markdown",
   "id": "92895bb4",
   "metadata": {},
   "source": [
    "#### Unused (Tokens)\n",
    "There are 3 printing characters that are allowed in string literals and comments, but are unused in Python. Attempting to use them outside of the aforementioned places will trigger an error unconditionally:\n",
    "```\n",
    "$       ?       `\n",
    "```"
   ]
  },
  {
   "cell_type": "markdown",
   "id": "1e99d80d",
   "metadata": {},
   "source": [
    "### Expressions (Just Like In Math! Again!)\n"
   ]
  },
  {
   "cell_type": "markdown",
   "id": "8c1bdd44",
   "metadata": {},
   "source": [
    "### Side Effects (They're Not as Scary as They Sound!)"
   ]
  },
  {
   "cell_type": "markdown",
   "id": "969b7bfc",
   "metadata": {},
   "source": [
    "### What If I Make A Mistake?\n",
    "\n",
    "TODO: quick note on syntax errors to allay fears"
   ]
  }
 ],
 "metadata": {
  "kernelspec": {
   "display_name": "Python 3 (ipykernel)",
   "language": "python",
   "name": "python3"
  },
  "language_info": {
   "codemirror_mode": {
    "name": "ipython",
    "version": 3
   },
   "file_extension": ".py",
   "mimetype": "text/x-python",
   "name": "python",
   "nbconvert_exporter": "python",
   "pygments_lexer": "ipython3",
   "version": "3.10.8"
  }
 },
 "nbformat": 4,
 "nbformat_minor": 5
}
