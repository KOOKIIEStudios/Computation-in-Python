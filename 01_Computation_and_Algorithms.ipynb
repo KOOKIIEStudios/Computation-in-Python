{
 "cells": [
  {
   "cell_type": "markdown",
   "id": "0b717fbc-611e-4035-ab26-69b492691e0a",
   "metadata": {},
   "source": [
    "## About The Course\n",
    "This course teaches computation using Python as a medium. We will be looking at some of the core soft skills needed in computing, as well as the basics of Python.\n",
    "\n",
    "### Expectations\n",
    "This course will provide a cursory explanation on the following topics:\n",
    "- Computational Thinking\n",
    "- Algorithms\n",
    "- Python Syntax & Semantics\n",
    "- Dunders and Scripts\n",
    "- Data Structures\n",
    "- Common String and List Methods\n",
    "- Procedures and Anonymous Functions\n",
    "- Gradual Typing\n",
    "- Classes\n",
    "- Flow Control\n",
    "- IO\n",
    "- Errors and Exceptions\n",
    "- Logging and Debugging\n",
    "\n",
    "Given the sheer breadth of the language's capabilities, we're naturally not able to cover the entire Python standard library.  However, this course nonetheless aims to provide the basic tools needed for learning to perform computation (from first principals) using modern Python.\n",
    "\n",
    "## About The Notebook\n",
    "In this notebook, we will be having a quick look at the fundamentals of computation and algorithms.  \n",
    "This notebook will be less interactive than the rest in the series, given that we're covering theoretical concepts.  \n",
    "It may be more dry, but it is nonetheless important that we take a look at these topics, since they lay the groundwork for everything that comes after.\n",
    "Rest assured that things do get more interesting after this!\n",
    "\n",
    "---\n",
    "### Disclaimer & Credits\n",
    "This notebook is written by Amos Chua and may be contain some of the knowledge he acquired from the following course which he took in 2016:  \n",
    "***CZ1003 Introduction to Computational Thinking** - School of Computer Science and Engineering, Nanyang Technological University*  \n",
    "*(Taught by Dr LUA Rui Ping & Dr LIN Shang-Wei)*\n",
    "\n",
    "---"
   ]
  },
  {
   "cell_type": "markdown",
   "id": "999a6d73",
   "metadata": {},
   "source": [
    "## Computational Thinking\n",
    "### In a Nutshell\n",
    "> Formulating problems in a way that allows subsequent solutions to be represented as computational steps and algorithms.\n",
    "\n",
    "- *Aho, Alfred V. (January 2011). \"Computation and computational thinking\"*  \n",
    "\n",
    "> A set of problem-solving methods that involve expressing problems and their solutions in ways that a computer could also execute.\n",
    "\n",
    "- *Wing, Jeannette (2014). \"Computational Thinking Benefits Society\"*  \n",
    "\n",
    "This is what computing is really about, and is also a key soft skill that will be needed regardless of which area of computing you choose to go into. Different programming languages and paradigms will always come and go in and out of fashion, but computational thinking is language-agnostic. Regardless of what project you're working on, and in which languages they're written in, the computational thinking skills can be applied just the same. It is the way with which we approach problems, and make them easier to solve. If we liken programming languages and frameworks as individual tools in a proverbial toolbox, then computational thinking is like knowing when and how to use which tools for which jobs.\n",
    "\n",
    "It might be helpful for you to think of it as recursively breaking down a big difficult problem into successively smaller ones, repeating as many times as you need until you have yourself a bunch of really small problems that are individually easy for you to solve on their own."
   ]
  },
  {
   "cell_type": "markdown",
   "id": "e51a72dc",
   "metadata": {},
   "source": [
    "### Three As\n",
    "One way of characterizing computational thinking is the \"three As\" iterative process, that breaks down problem solving into three stages:\n",
    "- Abstraction (formulate a problem)\n",
    "- Automation (formulate a solution)\n",
    "- Analysis (execute and evaluate the solution)\n",
    "\n",
    "*Repenning, Alexander (4 September 2016). \"Computational Thinking Tools\"*\n",
    "\n",
    "This isn't on the test, so there's no need to memorize what the three As are specifically.  \n",
    "(But it might be a fun party trick if you're in a party with nerds!)\n",
    "\n",
    "Clearly this a little vague and too high-levelled to be of use outside of academia, so now let's look at a more concrete way of characterizing computational thinking through the mental processes that one might go through in tackling problems:"
   ]
  },
  {
   "cell_type": "markdown",
   "id": "08e1dcde",
   "metadata": {},
   "source": [
    "### Mental Processes\n",
    "- Decomposition\n",
    "  - Break down processes and data into smaller and more manageable chunks\n",
    "- Pattern Recognition/Data Representation\n",
    "  - Observe patterns, trends, and regularities in the data\n",
    "- Abstraction/Generalization\n",
    "  - Identify & extract relevant information\n",
    "  - Create generic solutions that can be used to solve variations on the initial problem\n",
    "- Algorithm Design\n",
    "  - Create instructions to solve particular problems\n",
    "\n",
    "*\"Exploring Computational Thinking\". Google for Education.*"
   ]
  },
  {
   "cell_type": "markdown",
   "id": "0fe64bb0",
   "metadata": {},
   "source": [
    "### Putting it into Practice\n",
    "Let's try out a quick exercise!\n",
    "\n",
    "Brandon wishes to apply for a loan to support his crippling TCG addiction. Bank A offers a 5 year loan at 3%, compounded quarterly. Bank B offers a 10 year loan at 7%, compounded annually. Brandon reckons that he wants to sink at least a thousand dollars into Pokemon TCG. Which deal is better for him?\n",
    "\n",
    "Let's break the problem down. To know which deal is better we need to calculate what is the total he will have to repay either banks. This means that we will need to use an appropriate formula to calculate the amount owed at the end of each loan term, and then compare to see which one is lower. In other words, we have decomposed the initial problem into the following steps:  \n",
    "1. Calculate interest for bank A\n",
    "2. Calculate interest for bank B\n",
    "3. Check which value is lower (the better deal)\n",
    "\n",
    "Now, we notice that both loans are using compound interest, albeit compounded at different frequency (pattern recognition), and that the principal is the same in both cases. This step might not be significant in a one-off case, but we'll keep this piece of information in mind for now. We'll now refine the three steps we came up with, using information we noticed:\n",
    "1. Calculate $(1000 * (1 + \\frac{\\frac{3}{4}}{100})^{4*5}) - 1000$\n",
    "2. Calculate $(1000 * (1 + \\frac{\\frac{7}{1}}{100})^{1*10}) - 1000$\n",
    "3. Check which value is lower (the better deal)\n",
    "\n",
    "Given the relatively contrived example we're using, it's simple enough that after one round of decomposition we already arrived at an algorithm: a sequence of instructions. Naturally, we might want to break this down even more when programming for machines, which we'll get into in later chapters."
   ]
  },
  {
   "cell_type": "markdown",
   "id": "e8e28ed9",
   "metadata": {},
   "source": [
    "### Generalization\n",
    "In the above section, we've involved most of the mental processes involved in computational thinking, albeit with one glaring omission: generalization.\n",
    "\n",
    "Let's suppose that now Bank C has also offered a deal with Brandon for a 10 year loan at 5%, compounded semi-annually. Or that the loan terms offered by Bank A has changed in the time that Brandon took to make his decision. What can we do?\n",
    "\n",
    "Well, if we're performing calculations by hand there's nothing we can do but re-calculate manually. But we'll circle back to this when we talk about *procedures/functions* in later chapters, and make this solution more generic, so as to automate the decision process for Brandon. Sorry Brandon, your TCG addiction will have to wait!"
   ]
  },
  {
   "cell_type": "markdown",
   "id": "c6e9d228",
   "metadata": {},
   "source": [
    "### Last Words\n",
    "The above contrived example might make the breaking down of problems seem like a no-brainer - after all, this is how most people would intuitively approach the problem. Most people who are just starting out in computing would probably think the same, only to find themselves stuck when encountering tougher problems later on. A big part of getting better at solving more difficult problems is recognizing when you've not broken down your problem into small enough pieces. So if you find yourself in a pickle, perhaps consider whether any of the steps in your algorithm should be broken down further (and for the love of God, *please* plan before you code)."
   ]
  },
  {
   "cell_type": "markdown",
   "id": "7e54c8da-df9d-4976-af68-62f7301b39f6",
   "metadata": {},
   "source": [
    "## Algorithms\n",
    "### In a Nutshell\n",
    "Earlier, we briefly touched on the word algorithm as a series of executable instructions that make up a solution to a problem. This begs the question: what's the difference between an algorithm and a program?\n",
    "\n",
    "An algorithm is a *description* of the procedure one would take to solve a problem.  \n",
    "A program is an *implementation* of an algorithm - for instance in this course, using Python!\n",
    "\n",
    "To solve a problem: We first apply computational thinking to obtain an algorithm. The algorithm is translated to code, which produces a *program* that can be run on a computer - ergo \"programming\"."
   ]
  },
  {
   "cell_type": "markdown",
   "id": "c69fe571",
   "metadata": {},
   "source": [
    "### Cut Out the Middleman?\n",
    "Why do we even bother with algorithms? Why not just write the code?\n",
    "\n",
    "Well, there are a number of advantages to this. Firstly, it allows us to derive a solution that is independent of programming - that is, that your solution could work regardless of programming language. This makes it a transferable soft skill across all programming languages: computational thinking is *language-agnostic*.\n",
    "\n",
    "Furthermore, having the algorithm at hand allows us to pick the right language and/or framework. Harking back to the previously made analogy of tools in toolboxes: sure, you can simply pick your favourite tool in your toolbox and do *everything* using that one tool. But it would be advantageous to first know what kind of work you'll be doing, and then picking the most appropriate tool for that job. You *could* choose to carry only a pair of pliers to perform any and every job; or, you could also first analyze and realise that you need to unscrew some nuts and bolts and then choose to use wrenches.\n",
    "\n",
    "Aside from that, algorithms also allow us to investigate and evaluate the efficiency of solutions (which is beyond the scope of this introductory course)."
   ]
  },
  {
   "cell_type": "markdown",
   "id": "25d495d4",
   "metadata": {},
   "source": [
    "### TMI?\n",
    "Earlier we also touched on the fact that the most common reason beginners get stuck is that they haven't broken down their problems small enough, so each individual instruction in their algorithm ends up being too vague/difficult and unmanageable.\n",
    "\n",
    "Well then. How much should we break things down? How detailed does an algorithm need to be? How much is too much?\n",
    "\n",
    "At the very least, it should have enough detail to be implementable. But realistically, this is based on experience and gets developed as exposure to problem solving increases."
   ]
  },
  {
   "cell_type": "markdown",
   "id": "c60da62b",
   "metadata": {},
   "source": [
    "### Representation\n",
    "When solving complicated problems, we often look to various means of notating algorithms as part of the planning before we actually code. There are 3 common ways we do so:\n",
    "1. Flowcharts\n",
    "2. Nassi-Schneiderman Diagrams\n",
    "3. Pseudocode"
   ]
  },
  {
   "cell_type": "markdown",
   "id": "ac0b923c",
   "metadata": {},
   "source": [
    "### Flowcharts\n",
    "Since algorithms are a series on instructions, they're sequential in nature. That said, they can exhibit branching (making a selection) and/or looping (repeating certain steps) behaviour as well, and flowcharts can help us visualize the algorithm better.\n",
    "\n",
    "![example](assets/lamp_flowchart.png)  \n",
    "*Fig. 1: Adapted from [Wikipedia](https://upload.wikimedia.org/wikipedia/commons/thumb/9/91/LampFlowchart.svg/220px-LampFlowchart.svg.png)*\n",
    "\n",
    "By planning out our code in flowcharts, we can address logical errors before they turn into bugs in our code. Flowcharts are common in software design documentation and as a side note, actually have standard symbols (e.g. ISO 5807). You may want to take a look through the [Wikipedia page for flowcharts](https://en.wikipedia.org/wiki/Flowchart#Building_blocks) to learn more.\n",
    "\n",
    "Nassi-Schneiderman diagrams are similar to flowchart, but do not use arrows, and are hence more compact."
   ]
  },
  {
   "cell_type": "markdown",
   "id": "169ffacf",
   "metadata": {},
   "source": [
    "### Pseudocode"
   ]
  },
  {
   "cell_type": "markdown",
   "id": "7a10b5b9",
   "metadata": {},
   "source": [
    "Flowcharts and Nassi-Schneiderman diagrams are, well... Diagrams. Some times, a problem might be complicated enough that we want to write things down in our planning, but also not so complex that we necessarily want to break out a diagramming tool.\n",
    "\n",
    "Pseudocode is the use of informal English in describing an algorithm, with each step on a separate line - just like we did in the computational thinking example earlier!\n",
    "\n",
    "Being an informal way of writing, pseudocode generally does not obey the syntax rules of any particular language, and has no standard format. Different people will have different opinions on how to write pseudocode, but as a rule of thumb, stick to writing only one statement (i.e. step/instruction) per line; indent to show hierarchy; keep statements language-agnostic.\n",
    "\n",
    "For clarification on indentation for hierarchy, take a look at the following:\n",
    "```\n",
    "WHILE still employed\n",
    "    IF date is between JAN 1 and APR 15\n",
    "        CONTACT accountant to file taxes\n",
    "    END IF\n",
    "END WHILE\n",
    "```\n",
    "The `IF` block is only executed if the condition of `still employed` is true. So we'll indent that. Similarly, the accountant is only contacted if it's tax season, so that line is indented."
   ]
  },
  {
   "cell_type": "markdown",
   "id": "d68f68b9",
   "metadata": {},
   "source": [
    "### Considerations\n",
    "Here are some things to consider when drafting an algorithm:\n",
    "- Ambiguity\n",
    "    - Be clear and precise\n",
    "- Order\n",
    "    - E.g. Sorting a list by alphabetical order and pulling out the first item - changing the order would change the result\n",
    "- Exhaustiveness\n",
    "    - Consider all decision points (branching and looping)\n",
    "    - You don't want odd edge cases unaccounted for!\n",
    "- Terminal\n",
    "    - No matter how the logic flows, the program must always terminate in the end\n",
    "    - Infinite loops may crash your computer"
   ]
  },
  {
   "cell_type": "markdown",
   "id": "f824e72f",
   "metadata": {},
   "source": [
    "## Afterword\n",
    "We've taken a quick look at the absolute fundamentals in computation, and the thought processes behind them. These skills and techniques are language-agnostic and applicable across the entire industry. Would-be software engineers often find the development of computational thinking skills to be a big part of becoming a better programmer.\n",
    "\n",
    "Now with the dry explanations sorted and out of the way, we will be making use of it implicitly in future notebooks.\n",
    "\n",
    "*Amos Chua (27th SEP 2023)*"
   ]
  }
 ],
 "metadata": {
  "kernelspec": {
   "display_name": "Python 3 (ipykernel)",
   "language": "python",
   "name": "python3"
  },
  "language_info": {
   "codemirror_mode": {
    "name": "ipython",
    "version": 3
   },
   "file_extension": ".py",
   "mimetype": "text/x-python",
   "name": "python",
   "nbconvert_exporter": "python",
   "pygments_lexer": "ipython3",
   "version": "3.10.8"
  }
 },
 "nbformat": 4,
 "nbformat_minor": 5
}
