{
 "cells": [
  {
   "cell_type": "markdown",
   "id": "6df9b63e",
   "metadata": {},
   "source": [
    "## About The Notebook\n",
    "In prior notebooks, we briefly touched on variables, variable assignment, as well as variable types. In this notebook, we'll go a little more in-dept into them"
   ]
  },
  {
   "cell_type": "markdown",
   "id": "085e55b7",
   "metadata": {},
   "source": [
    "## Variables\n",
    "As you may remember from prior notebooks, everything is an object under the hood and every object has a value and type. You can think of variables as containers for data, which have a name you can use to refer to, as well as the type of and value of the data.\n",
    "\n",
    "In contrast with using variables, it's also possible to perform computations with raw literals. For instance, if we want to perform the compound interest calculation from notebook 2, we can choose to write the numbers in directly - these are called \"magic numbers\"\n",
    "\n",
    "> A magic number is a number that is explicitly defined in the code of a computer program without detailing its purpose.\n",
    "> \n",
    "> \\- *AO Kaspersky Lab (2023)*"
   ]
  },
  {
   "cell_type": "code",
   "execution_count": null,
   "id": "a3b4cc2d",
   "metadata": {},
   "outputs": [],
   "source": [
    "def compound_interest_using_variables():\n",
    "    principal = 1000\n",
    "    interest_rate = 3\n",
    "    periods_per_year = 4\n",
    "    number_of_years = 5\n",
    "\n",
    "    return (\n",
    "        principal\n",
    "        * ((1 + (interest_rate / periods_per_year)/100)**(periods_per_year * number_of_years))\n",
    "    )\n",
    "\n",
    "def compound_interest_with_magic_numbers():\n",
    "    return 1000 * ((1 + (3 / 4)/100)**(4 * 5))\n",
    "\n",
    "print(compound_interest_using_variables())\n",
    "print(compound_interest_with_magic_numbers())"
   ]
  },
  {
   "cell_type": "markdown",
   "id": "4b3070a5",
   "metadata": {},
   "source": [
    "Notice that both pieces of code above will give you the same result. However, it's much easier to read and understand what's happening in the code when you use variables with readable names, and it's also easier for you to detect mistakes (like copy-paste errors) or to perform maintenance (e.g. if I want to change the periods per year, I only need to change the value of the `periods_per_year` variable in the first example).\n",
    "\n",
    "As you might have noticed, we can store and retrieve data to and from variables. We can actually also modify them by re-assigning new values:"
   ]
  },
  {
   "cell_type": "code",
   "execution_count": null,
   "id": "9b03405a",
   "metadata": {},
   "outputs": [],
   "source": [
    "some_number = 6\n",
    "print(f\"Value of some_number is: {some_number}\")\n",
    "\n",
    "some_number = 9\n",
    "print(f\"Value of some_number is: {some_number}\")"
   ]
  },
  {
   "cell_type": "markdown",
   "id": "0d7415f3",
   "metadata": {},
   "source": [
    "In the first line of code we performed an assignment of the value `6` to a variable named `some_number`; a variable with the name `some_number` is created since a variable with the same name doesn't yet exist. The value `6` is associated with that name.  \n",
    "The next time we perform an assignment to `some_number`, we are telling Python that we no longer want `some_number` to be associated with a value of `6`, and to instead reference the value `9`."
   ]
  },
  {
   "cell_type": "markdown",
   "metadata": {},
   "source": [
    "### Assignment\n",
    "So you might be slightly confused by this word \"assignment\" that you just read. You've previously already seen the use of the `=` sign in-use with variables in provided code demonstrations. This is known as the assignment operator, which should not be confused with equality in mathematics (usually denoted as `==` in most programming languages instead).\n",
    "\n",
    "```py\n",
    "left_hand_side = right_hand_side\n",
    "```\n",
    "\n",
    "In assignment operators, the left hand side is a variable; the right hand side is an expression.  \n",
    "Python will evaluate the expression on the right hand side and then store it in the variable on the left hand side.  \n",
    "Or, we can also say, that the expression is evaluated and the resulting value is associated with the name in the namespace.\n",
    "\n",
    "Note that since the right hand side is an expression, chaining assignments on the same line is legal in Python.\n",
    "```py\n",
    "a = b = c = d = 69\n",
    "```\n",
    "In Python, chained assignments happen from left to right (which may be  different from other languages like C).\n",
    "That means that the following two sets of code are equivalent:\n",
    "```py\n",
    "a = b = get_deez()\n",
    "```\n",
    "```py\n",
    "c = get_deez()\n",
    "a = c\n",
    "b = c\n",
    "```\n",
    "Also, with chained assignments, the same *object* is assigned to each target. Which means that if you want to create 2 lists, for example, and you do the following:\n",
    "```py\n",
    "list_1 = list_2 = list()\n",
    "```\n",
    "This results in only *one* list being created, and the names `list_1` and `list_2` are being associated with that *same* list object."
   ]
  },
  {
   "cell_type": "markdown",
   "metadata": {},
   "source": [
    "### Multiple Assignment\n",
    "A reasonably common problem you might encounter is swapping values - how would you go about solving this?  \n",
    "Many newcomers might instinctively do the following:\n",
    "```py\n",
    "x = 6\n",
    "y = 9\n",
    "\n",
    "x = y\n",
    "y = x\n",
    "```\n",
    "This is a common pitfall in the logic. When you do `x = y`, both `x` and `y` are now value `9`; the value `6` is lost.\n",
    "\n",
    "In many programming languages, you'll resolve this by using a temporary variable:\n",
    "```py\n",
    "temp = x  # store 6 in temp\n",
    "x = y\n",
    "y = temp  # 6 now goes into y\n",
    "```\n",
    "\n",
    "Python supports multiple assignments (alongside tuple unpacking) - which means the following is legal:\n",
    "```py\n",
    "x, y = y, x\n",
    "```\n",
    "\n",
    "We'll discuss tuples in detail later, but for now, you just need to know that they're an ordered collection of values:\n",
    "```py\n",
    "some_tuple = (6, 9)\n",
    "x, y = some_tuple  # x = 6, y = 9\n",
    "```\n",
    "Python can automatically unpack tuples during assignment - this is used implicitly when we want to return multiple values from a function:\n",
    "```py\n",
    "def nice() -> tuple[int, int]:\n",
    "    return 6, 9\n",
    "\n",
    "x, y = nice()\n",
    "```"
   ]
  },
  {
   "cell_type": "markdown",
   "id": "acc90cf6",
   "metadata": {},
   "source": [
    "### Naming\n",
    "Given that we just talked about associating names with values, we'd have to touch on namespaces:  \n",
    "> A *namespace* is a mapping from names to objects. Most namespaces are currently implemented as Python dictionaries.\n",
    "> \n",
    "> *\\- Python Software Foundation (2023)*\n",
    "\n",
    "It's how Python keeps track of what names refer to what values/objects. Notice that we used the plural \"namespaces\" - that's because there's more than one. We will go more in-depth when we discuss scoping.\n",
    "\n",
    "It's important to note that you can't simply name variable however you like. There are a few key points to remember as a beginner; for more in-depth rules, you may refer to [*PEP 8*](https://peps.python.org/pep-0008/#naming-conventions) for styling recommendations, as well as [*The Python Language Reference*](https://docs.python.org/3.12/reference/lexical_analysis.html#identifiers) for the nitty gritty details of what constitutes a legal name in Python; the pointers given here have been extracted from the two resources listed above:\n",
    "\n",
    "1. Names can contain Unicode letters, [numbers](https://www.compart.com/en/unicode/category/Nd), [nonspacing marks](https://www.compart.com/en/unicode/category/Mn), [spacing combining marks](https://www.compart.com/en/unicode/category/Mc), and [connector punctuations](https://www.compart.com/en/unicode/category/Pc)\n",
    "    - Unicode letters span many languages, and not just the Latin characters used in ASCII\n",
    "      - e.g. &#226; and &#462; are legal\n",
    "      - I would personally sticking to common letters - characters that are cumbersome to type out would probably be more trouble than they're worth\n",
    "2. Names can only start with Unicode letters, [Letter Numbers](https://www.compart.com/en/unicode/category/Nl), and underscores\n",
    "    - Example of letter numbers: &#8544;, &#8545;, &#8546;, &#8547;\n",
    "    - There are certain other special characters that are supported for backwards compatibility, but you probably don't need to know this\n",
    "3. Names are case-sensitive\n",
    "4. Try to keep names short and descriptive\n",
    "    - There's no hard limit on the length, but it's best to keep things straight to the point\n",
    "5. Use `snake_case` for packages, modules, functions, variables\n",
    "6. Use `CamelCase` for classes\n",
    "7. Use `UPPER_CASE_WITH_UNDERSCORES` for constants\n",
    "8. Leading and trailing underscores have special meaning\n",
    "    - `_single_leading` and `single_trailing_` underscores are special by convention (they don't really do anything under the hood)\n",
    "    - `__double_leading` and `__double_leading_and_trailing__` have special meanings under the hood (remember *dunders* from the previous notebook?)"
   ]
  },
  {
   "cell_type": "markdown",
   "metadata": {},
   "source": [
    "### A quick exercise!\n",
    "Let's say Brandon runs a bootleg anime streaming service, and wants to know how much to charge his friends and family in order to not make a loss. Since he's already paying for internet for residential use, the internet fees are not pertinent to our calculations. Also, let's assume that he's recycling old hardware from decommissioned builds from his bootleg PC shop that he runs out of his garage; the hardware overhead is therefore not pertinent to our calculations. This leaves us with electricity costs.\n",
    "\n",
    "Assume his server draws 300 watts on average, and the residential electricity rate where he lives is 25 ¢/kWh.\n",
    "\n",
    "We know that `Income From Operations = Gross Margin – Operating Expenses`. Assuming he has 15 users, how much should each user pay for Brandon's monthly income to be $69 (assume 30 days a month)?"
   ]
  },
  {
   "cell_type": "code",
   "execution_count": null,
   "metadata": {},
   "outputs": [],
   "source": [
    "import assertions.checker_4 as test\n",
    "# Write your code here:\n",
    "\n",
    "\n",
    "test.check_price(REPLACE_WITH_YOUR_ANSWER)\n",
    "# e.g. test.check_price(payment) if your answer is in a variable named `payment`"
   ]
  },
  {
   "cell_type": "markdown",
   "id": "34a0974e",
   "metadata": {},
   "source": [
    "## References\n",
    "- AO Kaspersky Lab. (2023). [*Magic number*](https://encyclopedia.kaspersky.com/glossary/magic-number/). Kaspersky IT Encyclopedia\n",
    "- Python Software Foundation. (2023). [*9.2. Python Scopes and Namespaces*](https://docs.python.org/3/tutorial/classes.html#python-scopes-and-namespaces). The Python Tutorial\n",
    "- G. van Rossum, B. Warsaw, A. Coghlan. [*PEP 8 – Style Guide for Python Code*](https://peps.python.org/pep-0008/#naming-conventions). Python Enhancement Proposals\n",
    "- Python Software Foundation. (2023). [*2.3. Identifiers and keywords*](https://docs.python.org/3.12/reference/lexical_analysis.html#identifiers). The Python Language Reference"
   ]
  }
 ],
 "metadata": {
  "kernelspec": {
   "display_name": "Python 3",
   "language": "python",
   "name": "python3"
  },
  "language_info": {
   "codemirror_mode": {
    "name": "ipython",
    "version": 3
   },
   "file_extension": ".py",
   "mimetype": "text/x-python",
   "name": "python",
   "nbconvert_exporter": "python",
   "pygments_lexer": "ipython3",
   "version": "3.12.0"
  }
 },
 "nbformat": 4,
 "nbformat_minor": 5
}
