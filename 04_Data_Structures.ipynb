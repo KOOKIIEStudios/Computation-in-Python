{
 "cells": [
  {
   "cell_type": "markdown",
   "id": "6df9b63e",
   "metadata": {},
   "source": [
    "## About The Notebook\n",
    "In prior notebooks, we briefly touched on variables, variable assignment, as well as variable types. In this notebook, we'll go a little more in-dept into them"
   ]
  },
  {
   "cell_type": "markdown",
   "id": "085e55b7",
   "metadata": {},
   "source": [
    "## Variables\n",
    "As you may remember from prior notebooks, everything is an object under the hood and every object has a value and type. You can think of variables as containers for data, which have a name you can use to refer to, as well as the type of and value of the data.\n",
    "\n",
    "In contrast with using variables, it's also possible to perform computations with raw literals. For instance, if we want to perform the compound interest calculation from notebook 2, we can choose to write the numbers in directly - these are called \"magic numbers\"\n",
    "\n",
    "> A magic number is a number that is explicitly defined in the code of a computer program without detailing its purpose.\n",
    "> \n",
    "> \\- *AO Kaspersky Lab (2023)*"
   ]
  },
  {
   "cell_type": "code",
   "execution_count": null,
   "id": "a3b4cc2d",
   "metadata": {},
   "outputs": [],
   "source": [
    "def compound_interest_using_variables():\n",
    "    principal = 1000\n",
    "    interest_rate = 3\n",
    "    periods_per_year = 4\n",
    "    number_of_years = 5\n",
    "\n",
    "    return (\n",
    "        principal\n",
    "        * ((1 + (interest_rate / periods_per_year)/100)**(periods_per_year * number_of_years))\n",
    "    )\n",
    "\n",
    "def compound_interest_with_magic_numbers():\n",
    "    return 1000 * ((1 + (3 / 4)/100)**(4 * 5))\n",
    "\n",
    "print(compound_interest_using_variables())\n",
    "print(compound_interest_with_magic_numbers())"
   ]
  },
  {
   "cell_type": "markdown",
   "id": "4b3070a5",
   "metadata": {},
   "source": [
    "Notice that both pieces of code above will give you the same result. However, it's much easier to read and understand what's happening in the code when you use variables with readable names, and it's also easier for you to detect mistakes (like copy-paste errors) or to perform maintenance (e.g. if I want to change the periods per year, I only need to change the value of the `periods_per_year` variable in the first example).\n",
    "\n",
    "As you might have noticed, we can store and retrieve data to and from variables. We can actually also modify them by re-assigning new values:"
   ]
  },
  {
   "cell_type": "code",
   "execution_count": null,
   "id": "9b03405a",
   "metadata": {},
   "outputs": [],
   "source": [
    "some_number = 6\n",
    "print(f\"Value of some_number is: {some_number}\")\n",
    "\n",
    "some_number = 9\n",
    "print(f\"Value of some_number is: {some_number}\")"
   ]
  },
  {
   "cell_type": "markdown",
   "id": "0d7415f3",
   "metadata": {},
   "source": [
    "In the first line of code we performed an assignment of the value `6` to a variable named `some_number`; a variable with the name `some_number` is created since a variable with the same name doesn't yet exist. The value `6` is associated with that name.  \n",
    "The next time we perform an assignment to `some_number`, we are telling Python that we no longer want `some_number` to be associated with a value of `6`, and to instead reference the value `9`."
   ]
  },
  {
   "cell_type": "markdown",
   "id": "acc90cf6",
   "metadata": {},
   "source": [
    "### Naming\n",
    "Given that we just talked about associating names with values, we'd have to touch on namespaces:  \n",
    "> A *namespace* is a mapping from names to objects. Most namespaces are currently implemented as Python dictionaries.\n",
    "> \n",
    "> *\\- Python Software Foundation (2023)*\n",
    "\n",
    "It's how Python keeps track of what names refer to what values/objects. Notice that we used the plural \"namespaces\" - that's because there's more than one. We will go more in-depth when we discuss scoping.\n",
    "\n",
    "It's important to note that you can't simply name variable however you like. There are a few key points to remember as a beginner; for more in-depth rules, you may refer to [*PEP 8*](https://peps.python.org/pep-0008/#naming-conventions) for styling recommendations, as well as [*The Python Language Reference*](https://docs.python.org/3.12/reference/lexical_analysis.html#identifiers) for the nitty gritty details of what constitutes a legal name in Python; the pointers given here have been extracted from the two resources listed above:\n",
    "\n",
    "1. Names can contain Unicode letters, [numbers](https://www.compart.com/en/unicode/category/Nd), [nonspacing marks](https://www.compart.com/en/unicode/category/Mn), [spacing combining marks](https://www.compart.com/en/unicode/category/Mc), and [connector punctuations](https://www.compart.com/en/unicode/category/Pc)\n",
    "    - Unicode letters span many languages, and not just the Latin characters used in ASCII\n",
    "      - e.g. &#226; and &#462; are legal\n",
    "      - I would personally sticking to common letters - characters that are cumbersome to type out would probably be more trouble than they're worth\n",
    "2. Names can only start with Unicode letters, [Letter Numbers](https://www.compart.com/en/unicode/category/Nl), and underscores\n",
    "    - Letter numbers: &#8544;, &#8545;, &#8546;, &#8547;\n",
    "    - There are certain other special characters that are supported for backwards compatibility, but you probably don't need to know this\n",
    "3. Names are case-sensitive\n",
    "4. Try to keep names short and descriptive\n",
    "    - There's no hard limit on the length, but it's best to keep things straight to the point\n",
    "5. Use `snake_case` for packages, modules, functions, variables\n",
    "6. Use `CamelCase` for classes\n",
    "7. Use `UPPER_CASE_WITH_UNDERSCORES` for constants\n",
    "8. Leading and trailing underscores have special meaning\n",
    "    - `_single_leading` and `single_trailing_` underscores are special by convention (they don't really do anything under the hood)\n",
    "    - `__double_leading` and `__double_leading_and_trailing__` have special meanings under the hood (remember *dunders* from the previous notebook?)"
   ]
  },
  {
   "cell_type": "markdown",
   "id": "34a0974e",
   "metadata": {},
   "source": [
    "## References\n",
    "- AO Kaspersky Lab. (2023). [*Magic number*](https://encyclopedia.kaspersky.com/glossary/magic-number/). Kaspersky IT Encyclopedia\n",
    "- Python Software Foundation. (2023). [*9.2. Python Scopes and Namespaces*](https://docs.python.org/3/tutorial/classes.html#python-scopes-and-namespaces). The Python Tutorial\n",
    "- G. van Rossum, B. Warsaw, A. Coghlan. [*PEP 8 – Style Guide for Python Code*](https://peps.python.org/pep-0008/#naming-conventions). Python Enhancement Proposals\n",
    "- Python Software Foundation. (2023). [*2.3. Identifiers and keywords*](https://docs.python.org/3.12/reference/lexical_analysis.html#identifiers). The Python Language Reference"
   ]
  }
 ],
 "metadata": {
  "language_info": {
   "name": "python"
  }
 },
 "nbformat": 4,
 "nbformat_minor": 5
}
